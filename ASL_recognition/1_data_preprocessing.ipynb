{
 "cells": [
  {
   "cell_type": "code",
   "execution_count": 2,
   "id": "e0fd5693-7074-47fa-8095-84a29d366566",
   "metadata": {},
   "outputs": [
    {
     "name": "stdout",
     "output_type": "stream",
     "text": [
      "✅ Extraction completed!\n"
     ]
    }
   ],
   "source": [
    "import zipfile\n",
    "import os\n",
    "\n",
    "zip_path = 'asl.zip'  # adjust if your filename is different\n",
    "extract_path = 'data'\n",
    "\n",
    "# Create target folder if not exists\n",
    "os.makedirs(extract_path, exist_ok=True)\n",
    "\n",
    "# Unzip the file\n",
    "with zipfile.ZipFile(zip_path, 'r') as zip_ref:\n",
    "    zip_ref.extractall(extract_path)\n",
    "\n",
    "print(\"✅ Extraction completed!\")"
   ]
  },
  {
   "cell_type": "code",
   "execution_count": 3,
   "id": "2b1e82d0-62e9-4039-bbdf-6db8e0c658ed",
   "metadata": {},
   "outputs": [
    {
     "name": "stdout",
     "output_type": "stream",
     "text": [
      "Classes found: ['A', 'B', 'C', 'D', 'del', 'E', 'F', 'G', 'H', 'I', 'J', 'K', 'L', 'M', 'N', 'nothing', 'O', 'P', 'Q', 'R', 'S', 'space', 'T', 'U', 'V', 'W', 'X', 'Y', 'Z']\n",
      "Total classes: 29\n"
     ]
    }
   ],
   "source": [
    "import os\n",
    "\n",
    "# Correct the path to point to the actual dataset inside the 'asl_alphabet_train' folder\n",
    "extracted_dir = os.path.join(extract_path, 'asl_alphabet_train', 'asl_alphabet_train')\n",
    "\n",
    "# List the classes in the directory\n",
    "try:\n",
    "    classes = os.listdir(extracted_dir)\n",
    "    print(\"Classes found:\", classes)\n",
    "    print(\"Total classes:\", len(classes))\n",
    "except FileNotFoundError:\n",
    "    print(f\"Directory not found: {extracted_dir}\")"
   ]
  },
  {
   "cell_type": "code",
   "execution_count": 4,
   "id": "a0547e85-63c9-4621-a221-4398fff6c859",
   "metadata": {},
   "outputs": [],
   "source": [
    "import os\n",
    "import numpy as np\n",
    "import matplotlib.pyplot as plt\n",
    "from PIL import Image\n",
    "from sklearn.model_selection import train_test_split\n",
    "from tensorflow.keras.utils import to_categorical\n",
    "\n",
    "DATA_DIR = './data/asl_alphabet_train'"
   ]
  },
  {
   "cell_type": "code",
   "execution_count": 6,
   "id": "260e789d-1239-4af0-a850-4650983bc475",
   "metadata": {},
   "outputs": [
    {
     "name": "stdout",
     "output_type": "stream",
     "text": [
      "Directory found: data/asl_alphabet_train\\asl_alphabet_train\n",
      "Classes found: ['A', 'B', 'C', 'D', 'del', 'E', 'F', 'G', 'H', 'I', 'J', 'K', 'L', 'M', 'N', 'nothing', 'O', 'P', 'Q', 'R', 'S', 'space', 'T', 'U', 'V', 'W', 'X', 'Y', 'Z']\n",
      "Total classes: 29\n"
     ]
    }
   ],
   "source": [
    "import os\n",
    "\n",
    "# Adjust the extract_path to point to the correct location where 'asl_alphabet_train' is located\n",
    "extract_path = 'data/asl_alphabet_train'  # Adjust this to the correct path\n",
    "\n",
    "# Correct the DATA_DIR to point to the correct folder\n",
    "DATA_DIR = os.path.join(extract_path, 'asl_alphabet_train')\n",
    "\n",
    "# Check if the path exists\n",
    "if os.path.exists(DATA_DIR):\n",
    "    print(f\"Directory found: {DATA_DIR}\")\n",
    "    classes = os.listdir(DATA_DIR)\n",
    "    print(\"Classes found:\", classes)\n",
    "    print(\"Total classes:\", len(classes))\n",
    "else:\n",
    "    print(f\"Directory not found: {DATA_DIR}\")\n"
   ]
  },
  {
   "cell_type": "code",
   "execution_count": 7,
   "id": "721223fe-07db-461a-804a-8a3ef4ac47ef",
   "metadata": {},
   "outputs": [
    {
     "name": "stdout",
     "output_type": "stream",
     "text": [
      "Classes found: ['A', 'B', 'C', 'D', 'del', 'E', 'F', 'G', 'H', 'I', 'J', 'K', 'L', 'M', 'N', 'nothing', 'O', 'P', 'Q', 'R', 'S', 'space', 'T', 'U', 'V', 'W', 'X', 'Y', 'Z']\n"
     ]
    },
    {
     "name": "stderr",
     "output_type": "stream",
     "text": [
      "Loading A: 100%|███████████████████████████████████████████████████████████████████| 3000/3000 [00:34<00:00, 86.48it/s]\n",
      "Loading B: 100%|███████████████████████████████████████████████████████████████████| 3000/3000 [00:34<00:00, 86.74it/s]\n",
      "Loading C: 100%|███████████████████████████████████████████████████████████████████| 3000/3000 [00:35<00:00, 84.21it/s]\n",
      "Loading D: 100%|███████████████████████████████████████████████████████████████████| 3000/3000 [00:32<00:00, 91.43it/s]\n",
      "Loading del: 100%|█████████████████████████████████████████████████████████████████| 3000/3000 [00:31<00:00, 94.40it/s]\n",
      "Loading E: 100%|███████████████████████████████████████████████████████████████████| 3000/3000 [00:32<00:00, 92.12it/s]\n",
      "Loading F: 100%|███████████████████████████████████████████████████████████████████| 3000/3000 [00:32<00:00, 91.41it/s]\n",
      "Loading G: 100%|███████████████████████████████████████████████████████████████████| 3000/3000 [00:32<00:00, 90.92it/s]\n",
      "Loading H: 100%|███████████████████████████████████████████████████████████████████| 3000/3000 [00:32<00:00, 91.36it/s]\n",
      "Loading I: 100%|███████████████████████████████████████████████████████████████████| 3000/3000 [00:32<00:00, 91.23it/s]\n",
      "Loading J: 100%|███████████████████████████████████████████████████████████████████| 3000/3000 [00:33<00:00, 90.73it/s]\n",
      "Loading K: 100%|███████████████████████████████████████████████████████████████████| 3000/3000 [00:32<00:00, 92.31it/s]\n",
      "Loading L: 100%|███████████████████████████████████████████████████████████████████| 3000/3000 [00:33<00:00, 90.84it/s]\n",
      "Loading M: 100%|███████████████████████████████████████████████████████████████████| 3000/3000 [00:32<00:00, 91.53it/s]\n",
      "Loading N: 100%|███████████████████████████████████████████████████████████████████| 3000/3000 [00:32<00:00, 91.95it/s]\n",
      "Loading nothing: 100%|█████████████████████████████████████████████████████████████| 3000/3000 [00:31<00:00, 94.25it/s]\n",
      "Loading O: 100%|███████████████████████████████████████████████████████████████████| 3000/3000 [00:32<00:00, 92.83it/s]\n",
      "Loading P: 100%|███████████████████████████████████████████████████████████████████| 3000/3000 [00:31<00:00, 94.05it/s]\n",
      "Loading Q: 100%|███████████████████████████████████████████████████████████████████| 3000/3000 [00:34<00:00, 88.19it/s]\n",
      "Loading R: 100%|███████████████████████████████████████████████████████████████████| 3000/3000 [00:31<00:00, 95.78it/s]\n",
      "Loading S: 100%|███████████████████████████████████████████████████████████████████| 3000/3000 [00:33<00:00, 90.84it/s]\n",
      "Loading space: 100%|███████████████████████████████████████████████████████████████| 3000/3000 [00:30<00:00, 96.91it/s]\n",
      "Loading T: 100%|███████████████████████████████████████████████████████████████████| 3000/3000 [00:31<00:00, 95.87it/s]\n",
      "Loading U: 100%|███████████████████████████████████████████████████████████████████| 3000/3000 [00:30<00:00, 97.24it/s]\n",
      "Loading V: 100%|███████████████████████████████████████████████████████████████████| 3000/3000 [00:31<00:00, 96.11it/s]\n",
      "Loading W: 100%|███████████████████████████████████████████████████████████████████| 3000/3000 [00:31<00:00, 94.86it/s]\n",
      "Loading X: 100%|███████████████████████████████████████████████████████████████████| 3000/3000 [00:31<00:00, 95.44it/s]\n",
      "Loading Y: 100%|███████████████████████████████████████████████████████████████████| 3000/3000 [00:31<00:00, 94.06it/s]\n",
      "Loading Z: 100%|███████████████████████████████████████████████████████████████████| 3000/3000 [00:33<00:00, 88.87it/s]\n"
     ]
    },
    {
     "name": "stdout",
     "output_type": "stream",
     "text": [
      "Training samples: 69600\n",
      "Validation samples: 17400\n"
     ]
    }
   ],
   "source": [
    "import os\n",
    "import numpy as np\n",
    "import cv2\n",
    "from sklearn.model_selection import train_test_split\n",
    "from tensorflow.keras.utils import to_categorical\n",
    "from tqdm import tqdm\n",
    "\n",
    "# Define the image size and dataset directory\n",
    "IMG_SIZE = 64\n",
    "DATA_DIR = 'data/asl_alphabet_train/asl_alphabet_train'\n",
    "\n",
    "# Get class labels\n",
    "classes = os.listdir(DATA_DIR)\n",
    "num_classes = len(classes)\n",
    "print(\"Classes found:\", classes)\n",
    "\n",
    "# Initialize lists to hold image data and labels\n",
    "X = []\n",
    "y = []\n",
    "\n",
    "# Load images and corresponding labels\n",
    "for label_index, label in enumerate(classes):\n",
    "    folder_path = os.path.join(DATA_DIR, label)\n",
    "    for image_name in tqdm(os.listdir(folder_path), desc=f\"Loading {label}\"):\n",
    "        image_path = os.path.join(folder_path, image_name)\n",
    "        image = cv2.imread(image_path)\n",
    "        \n",
    "        if image is not None:  \n",
    "            image = cv2.resize(image, (IMG_SIZE, IMG_SIZE))  \n",
    "            X.append(image)\n",
    "            y.append(label_index)\n",
    "\n",
    "X = np.array(X, dtype='float32') / 255.0  \n",
    "y = to_categorical(y, num_classes)  \n",
    "\n",
    "\n",
    "X_train, X_val, y_train, y_val = train_test_split(X, y, test_size=0.2, random_state=42)\n",
    "\n",
    "print(f\"Training samples: {X_train.shape[0]}\")\n",
    "print(f\"Validation samples: {X_val.shape[0]}\")\n"
   ]
  },
  {
   "cell_type": "code",
   "execution_count": 8,
   "id": "a9d54d30-5bbd-4ec1-8236-d52e9818530c",
   "metadata": {},
   "outputs": [],
   "source": [
    "# Save the data using numpy\n",
    "np.save('X_train.npy', X_train)\n",
    "np.save('y_train.npy', y_train)\n",
    "np.save('X_val.npy', X_val)\n",
    "np.save('y_val.npy', y_val)\n"
   ]
  },
  {
   "cell_type": "code",
   "execution_count": null,
   "id": "137d19ee-e714-4045-8c75-05cda5840f1c",
   "metadata": {},
   "outputs": [],
   "source": []
  }
 ],
 "metadata": {
  "kernelspec": {
   "display_name": "Python 3 (ipykernel)",
   "language": "python",
   "name": "python3"
  },
  "language_info": {
   "codemirror_mode": {
    "name": "ipython",
    "version": 3
   },
   "file_extension": ".py",
   "mimetype": "text/x-python",
   "name": "python",
   "nbconvert_exporter": "python",
   "pygments_lexer": "ipython3",
   "version": "3.12.6"
  }
 },
 "nbformat": 4,
 "nbformat_minor": 5
}
